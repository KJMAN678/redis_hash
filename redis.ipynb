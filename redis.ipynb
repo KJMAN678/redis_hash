{
 "cells": [
  {
   "cell_type": "code",
   "execution_count": 1,
   "id": "automatic-lender",
   "metadata": {},
   "outputs": [],
   "source": [
    "import redis\n",
    "import os\n",
    "import environ\n",
    "from pathlib import Path\n",
    "import pickle\n",
    "import pandas as pd"
   ]
  },
  {
   "cell_type": "code",
   "execution_count": 2,
   "id": "suitable-stability",
   "metadata": {},
   "outputs": [],
   "source": [
    "BASE_DIR = Path('__file__').resolve().parent\n",
    "env = environ.Env()\n",
    "env.read_env(os.path.join(BASE_DIR, \".env\"))\n",
    "HOST_NAME = env(\"HOST_NAME\")\n",
    "ACCESS_KEY = env(\"ACCESS_KEY\")"
   ]
  },
  {
   "cell_type": "code",
   "execution_count": 3,
   "id": "behavioral-symposium",
   "metadata": {},
   "outputs": [],
   "source": [
    "r = redis.StrictRedis(host=HOST_NAME,\n",
    "    port=6380, db=0, password=ACCESS_KEY, ssl=True)"
   ]
  },
  {
   "cell_type": "code",
   "execution_count": 4,
   "id": "metric-garlic",
   "metadata": {},
   "outputs": [
    {
     "data": {
      "text/plain": [
       "True"
      ]
     },
     "execution_count": 4,
     "metadata": {},
     "output_type": "execute_result"
    }
   ],
   "source": [
    "r.ping()"
   ]
  },
  {
   "cell_type": "code",
   "execution_count": 5,
   "id": "formal-convention",
   "metadata": {},
   "outputs": [
    {
     "data": {
      "text/html": [
       "<div>\n",
       "<style scoped>\n",
       "    .dataframe tbody tr th:only-of-type {\n",
       "        vertical-align: middle;\n",
       "    }\n",
       "\n",
       "    .dataframe tbody tr th {\n",
       "        vertical-align: top;\n",
       "    }\n",
       "\n",
       "    .dataframe thead th {\n",
       "        text-align: right;\n",
       "    }\n",
       "</style>\n",
       "<table border=\"1\" class=\"dataframe\">\n",
       "  <thead>\n",
       "    <tr style=\"text-align: right;\">\n",
       "      <th></th>\n",
       "      <th>住所</th>\n",
       "      <th>座標x</th>\n",
       "      <th>座標y</th>\n",
       "    </tr>\n",
       "  </thead>\n",
       "  <tbody>\n",
       "    <tr>\n",
       "      <th>0</th>\n",
       "      <td>北海道札幌市中央区北1条西2丁目</td>\n",
       "      <td>50</td>\n",
       "      <td>90</td>\n",
       "    </tr>\n",
       "    <tr>\n",
       "      <th>1</th>\n",
       "      <td>広島県廿日市市宮島町１−１</td>\n",
       "      <td>100</td>\n",
       "      <td>70</td>\n",
       "    </tr>\n",
       "    <tr>\n",
       "      <th>2</th>\n",
       "      <td>岐阜県不破郡関ケ原町関ケ原８９４−５５</td>\n",
       "      <td>70</td>\n",
       "      <td>50</td>\n",
       "    </tr>\n",
       "    <tr>\n",
       "      <th>3</th>\n",
       "      <td>大阪府大阪市中央区大阪城１−１</td>\n",
       "      <td>30</td>\n",
       "      <td>40</td>\n",
       "    </tr>\n",
       "  </tbody>\n",
       "</table>\n",
       "</div>"
      ],
      "text/plain": [
       "                    住所  座標x  座標y\n",
       "0     北海道札幌市中央区北1条西2丁目   50   90\n",
       "1        広島県廿日市市宮島町１−１  100   70\n",
       "2  岐阜県不破郡関ケ原町関ケ原８９４−５５   70   50\n",
       "3      大阪府大阪市中央区大阪城１−１   30   40"
      ]
     },
     "execution_count": 5,
     "metadata": {},
     "output_type": "execute_result"
    }
   ],
   "source": [
    "df = pd.DataFrame(\n",
    "    [\n",
    "        [\"北海道札幌市中央区北1条西2丁目\", 50, 90],\n",
    "        [\"広島県廿日市市宮島町１−１\", 100, 70],\n",
    "        [\"岐阜県不破郡関ケ原町関ケ原８９４−５５\", 70, 50],\n",
    "        [\"大阪府大阪市中央区大阪城１−１\", 30, 40],    \n",
    "    ],\n",
    "    columns=[\"住所\", \"座標x\", \"座標y\"]\n",
    ")\n",
    "\n",
    "df"
   ]
  },
  {
   "cell_type": "code",
   "execution_count": 6,
   "id": "sitting-stream",
   "metadata": {
    "tags": []
   },
   "outputs": [
    {
     "name": "stdout",
     "output_type": "stream",
     "text": [
      "北海道札幌市中央区北1条西2丁目\n",
      "北海道札幌市中央区北1条西2丁目\n",
      "0.0\n",
      "北海道札幌市中央区北1条西2丁目\n",
      "広島県廿日市市宮島町１−１\n",
      "20.0\n",
      "北海道札幌市中央区北1条西2丁目\n",
      "岐阜県不破郡関ケ原町関ケ原８９４−５５\n",
      "16.0\n",
      "北海道札幌市中央区北1条西2丁目\n",
      "大阪府大阪市中央区大阪城１−１\n",
      "20.0\n",
      "広島県廿日市市宮島町１−１\n",
      "北海道札幌市中央区北1条西2丁目\n",
      "20.0\n",
      "広島県廿日市市宮島町１−１\n",
      "広島県廿日市市宮島町１−１\n",
      "0.0\n",
      "広島県廿日市市宮島町１−１\n",
      "岐阜県不破郡関ケ原町関ケ原８９４−５５\n",
      "12.0\n",
      "広島県廿日市市宮島町１−１\n",
      "大阪府大阪市中央区大阪城１−１\n",
      "42.0\n",
      "岐阜県不破郡関ケ原町関ケ原８９４−５５\n",
      "北海道札幌市中央区北1条西2丁目\n",
      "16.0\n",
      "岐阜県不破郡関ケ原町関ケ原８９４−５５\n",
      "広島県廿日市市宮島町１−１\n",
      "12.0\n",
      "岐阜県不破郡関ケ原町関ケ原８９４−５５\n",
      "岐阜県不破郡関ケ原町関ケ原８９４−５５\n",
      "0.0\n",
      "岐阜県不破郡関ケ原町関ケ原８９４−５５\n",
      "大阪府大阪市中央区大阪城１−１\n",
      "8.0\n",
      "大阪府大阪市中央区大阪城１−１\n",
      "北海道札幌市中央区北1条西2丁目\n",
      "20.0\n",
      "大阪府大阪市中央区大阪城１−１\n",
      "広島県廿日市市宮島町１−１\n",
      "42.0\n",
      "大阪府大阪市中央区大阪城１−１\n",
      "岐阜県不破郡関ケ原町関ケ原８９４−５５\n",
      "8.0\n",
      "大阪府大阪市中央区大阪城１−１\n",
      "大阪府大阪市中央区大阪城１−１\n",
      "0.0\n"
     ]
    }
   ],
   "source": [
    "speed = 50\n",
    "\n",
    "for i in range(len(df)):\n",
    "    for j in range(len(df)):\n",
    "        X = df.iloc[i:i+1]\n",
    "        Y = df.iloc[j:j+1]\n",
    "#         display(X)\n",
    "#         display(Y)\n",
    "\n",
    "        # 起点\n",
    "        start = X[\"住所\"].values[0]\n",
    "        print(start)\n",
    "\n",
    "        # 終点\n",
    "        end = Y[\"住所\"].values[0]\n",
    "        print(end)\n",
    "        \n",
    "        # 所要時間\n",
    "        time = abs(X[\"座標x\"].values[0]-Y[\"座標x\"].values[0])*abs(X[\"座標y\"].values[0]-Y[\"座標y\"].values[0])/speed\n",
    "        print(time)\n",
    "        \n",
    "        r.hset(start, end, time)"
   ]
  },
  {
   "cell_type": "code",
   "execution_count": 8,
   "id": "israeli-starter",
   "metadata": {},
   "outputs": [
    {
     "name": "stdout",
     "output_type": "stream",
     "text": [
      "{'北海道札幌市中央区北1条西2丁目': '0.0', '広島県廿日市市宮島町１−１': '20.0', '岐阜県不破郡関ケ原町関ケ原８９４−５５': '16.0', '大阪府大阪市中央区大阪城１−１': '20.0'}\n",
      "{'北海道札幌市中央区北1条西2丁目': '0.0', '広島県廿日市市宮島町１−１': '20.0', '岐阜県不破郡関ケ原町関ケ原８９４−５５': '16.0', '大阪府大阪市中央区大阪城１−１': '20.0'}\n",
      "{'北海道札幌市中央区北1条西2丁目': '0.0', '広島県廿日市市宮島町１−１': '20.0', '岐阜県不破郡関ケ原町関ケ原８９４−５５': '16.0', '大阪府大阪市中央区大阪城１−１': '20.0'}\n",
      "{'北海道札幌市中央区北1条西2丁目': '0.0', '広島県廿日市市宮島町１−１': '20.0', '岐阜県不破郡関ケ原町関ケ原８９４−５５': '16.0', '大阪府大阪市中央区大阪城１−１': '20.0'}\n"
     ]
    }
   ],
   "source": [
    "for i in range(len(df)):\n",
    "    print( {k.decode(\"utf-8\"):v.decode(\"utf-8\") for k, v in r.hgetall(df[\"住所\"].values[0]).items()})"
   ]
  },
  {
   "cell_type": "code",
   "execution_count": 10,
   "id": "secure-ethnic",
   "metadata": {},
   "outputs": [
    {
     "name": "stdout",
     "output_type": "stream",
     "text": [
      "北海道札幌市中央区北1条西2丁目 北海道札幌市中央区北1条西2丁目 0.0\n",
      "北海道札幌市中央区北1条西2丁目 広島県廿日市市宮島町１−１ 20.0\n",
      "北海道札幌市中央区北1条西2丁目 岐阜県不破郡関ケ原町関ケ原８９４−５５ 16.0\n",
      "北海道札幌市中央区北1条西2丁目 大阪府大阪市中央区大阪城１−１ 20.0\n",
      "広島県廿日市市宮島町１−１ 北海道札幌市中央区北1条西2丁目 20.0\n",
      "広島県廿日市市宮島町１−１ 広島県廿日市市宮島町１−１ 0.0\n",
      "広島県廿日市市宮島町１−１ 岐阜県不破郡関ケ原町関ケ原８９４−５５ 12.0\n",
      "広島県廿日市市宮島町１−１ 大阪府大阪市中央区大阪城１−１ 42.0\n",
      "岐阜県不破郡関ケ原町関ケ原８９４−５５ 北海道札幌市中央区北1条西2丁目 16.0\n",
      "岐阜県不破郡関ケ原町関ケ原８９４−５５ 広島県廿日市市宮島町１−１ 12.0\n",
      "岐阜県不破郡関ケ原町関ケ原８９４−５５ 岐阜県不破郡関ケ原町関ケ原８９４−５５ 0.0\n",
      "岐阜県不破郡関ケ原町関ケ原８９４−５５ 大阪府大阪市中央区大阪城１−１ 8.0\n",
      "大阪府大阪市中央区大阪城１−１ 北海道札幌市中央区北1条西2丁目 20.0\n",
      "大阪府大阪市中央区大阪城１−１ 広島県廿日市市宮島町１−１ 42.0\n",
      "大阪府大阪市中央区大阪城１−１ 岐阜県不破郡関ケ原町関ケ原８９４−５５ 8.0\n",
      "大阪府大阪市中央区大阪城１−１ 大阪府大阪市中央区大阪城１−１ 0.0\n"
     ]
    }
   ],
   "source": [
    "speed = 50\n",
    "\n",
    "for i in range(len(df)):\n",
    "    for j in range(len(df)):\n",
    "        X = df.iloc[i:i+1]\n",
    "        Y = df.iloc[j:j+1]\n",
    "\n",
    "        # 起点\n",
    "        start = X[\"住所\"].values[0]\n",
    "\n",
    "        # 終点\n",
    "        end = Y[\"住所\"].values[0]\n",
    "                \n",
    "        print(start, end, r.hget(start, end).decode(\"utf-8\"))"
   ]
  }
 ],
 "metadata": {
  "kernelspec": {
   "display_name": "Python 3",
   "language": "python",
   "name": "python3"
  },
  "language_info": {
   "codemirror_mode": {
    "name": "ipython",
    "version": 3
   },
   "file_extension": ".py",
   "mimetype": "text/x-python",
   "name": "python",
   "nbconvert_exporter": "python",
   "pygments_lexer": "ipython3",
   "version": "3.8.8"
  }
 },
 "nbformat": 4,
 "nbformat_minor": 5
}
